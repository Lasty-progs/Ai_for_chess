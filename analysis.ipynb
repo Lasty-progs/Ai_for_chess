{
 "cells": [
  {
   "cell_type": "code",
   "execution_count": 2,
   "metadata": {},
   "outputs": [],
   "source": [
    "import pandas as pd\n",
    "import matplotlib.pyplot as plt\n",
    "import seaborn as sns\n",
    "from Data.Data import DataSet\n",
    "\n"
   ]
  },
  {
   "cell_type": "code",
   "execution_count": 3,
   "metadata": {},
   "outputs": [
    {
     "name": "stdout",
     "output_type": "stream",
     "text": [
      "['Normal', 'Normal', 'Normal', 'Normal', 'Normal', 'Time forfeit', 'Normal', 'Normal', 'Normal', 'Normal', 'Normal', 'Normal', 'Normal', 'Normal', 'Normal', 'Normal', 'Normal', 'Time forfeit', 'Time forfeit', 'Normal', 'Normal', 'Normal', 'Time forfeit', 'Normal', 'Normal', 'Time forfeit', 'Normal', 'Time forfeit', 'Normal', 'Normal']\n"
     ]
    }
   ],
   "source": [
    "df = DataSet().for_analysis(30)\n",
    "\n",
    "print([x for x in df[\"Termination\"]])\n",
    "\n",
    "# elo = pd.concat([df['WhiteElo'], df['BlackElo']])\n",
    "\n",
    "# sns_plot = sns.kdeplot(elo, fill=True)\n",
    "# fig = sns_plot.get_figure()\n",
    "# fig.show()\n",
    "\n",
    "\n",
    "# plt.show()"
   ]
  }
 ],
 "metadata": {
  "kernelspec": {
   "display_name": "venv",
   "language": "python",
   "name": "python3"
  },
  "language_info": {
   "codemirror_mode": {
    "name": "ipython",
    "version": 3
   },
   "file_extension": ".py",
   "mimetype": "text/x-python",
   "name": "python",
   "nbconvert_exporter": "python",
   "pygments_lexer": "ipython3",
   "version": "3.11.6"
  }
 },
 "nbformat": 4,
 "nbformat_minor": 2
}
